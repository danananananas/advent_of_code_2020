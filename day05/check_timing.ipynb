{
 "cells": [
  {
   "cell_type": "code",
   "execution_count": 1,
   "metadata": {},
   "outputs": [],
   "source": [
    "def map_chars1(seat):\n",
    "    seat = seat.replace('F', '0')\n",
    "    seat = seat.replace('B', '1')\n",
    "    seat = seat.replace('L', '0')\n",
    "    seat = seat.replace('R', '1')\n",
    "    return seat"
   ]
  },
  {
   "cell_type": "code",
   "execution_count": 2,
   "metadata": {},
   "outputs": [],
   "source": [
    "def map_chars2(seat):\n",
    "    return seat.replace('F', '0').replace('B', '1').replace('L', '0').replace('R', '1')"
   ]
  },
  {
   "cell_type": "code",
   "execution_count": 3,
   "metadata": {},
   "outputs": [],
   "source": [
    "def map_chars3a(seats):\n",
    "    mapping = {'F': '0', 'B': '1', 'L': '0', 'R': '1'}\n",
    "    return seats.translate(str.maketrans(mapping))"
   ]
  },
  {
   "cell_type": "code",
   "execution_count": 4,
   "metadata": {},
   "outputs": [],
   "source": [
    "def map_chars3b(seats):\n",
    "    return seats.translate(str.maketrans({'F': '0', 'B': '1', 'L': '0', 'R': '1'}))"
   ]
  },
  {
   "cell_type": "code",
   "execution_count": 5,
   "metadata": {},
   "outputs": [],
   "source": [
    "seats = 'FBFBBFFRLR\\nBFFFBBFRRR\\nFFFBBBFRRR\\nBBFFBBFRLL'"
   ]
  },
  {
   "cell_type": "code",
   "execution_count": 7,
   "metadata": {},
   "outputs": [
    {
     "name": "stdout",
     "output_type": "stream",
     "text": [
      "1.25 µs ± 58.2 ns per loop (mean ± std. dev. of 7 runs, 1000000 loops each)\n",
      "1.18 µs ± 127 ns per loop (mean ± std. dev. of 7 runs, 1000000 loops each)\n",
      "1.26 µs ± 96.1 ns per loop (mean ± std. dev. of 7 runs, 1000000 loops each)\n",
      "1.17 µs ± 41.7 ns per loop (mean ± std. dev. of 7 runs, 1000000 loops each)\n"
     ]
    }
   ],
   "source": [
    "%timeit mapped_seats = map_chars1(seats)\n",
    "%timeit mapped_seats = map_chars2(seats)\n",
    "%timeit mapped_seats = map_chars3a(seats)\n",
    "%timeit mapped_seats = map_chars3b(seats)"
   ]
  },
  {
   "cell_type": "code",
   "execution_count": 15,
   "metadata": {},
   "outputs": [
    {
     "name": "stdout",
     "output_type": "stream",
     "text": [
      "7.37 µs ± 569 ns per loop (mean ± std. dev. of 7 runs, 100000 loops each)\n",
      "7.26 µs ± 440 ns per loop (mean ± std. dev. of 7 runs, 100000 loops each)\n",
      "6.83 µs ± 189 ns per loop (mean ± std. dev. of 7 runs, 100000 loops each)\n",
      "7.05 µs ± 303 ns per loop (mean ± std. dev. of 7 runs, 100000 loops each)\n"
     ]
    }
   ],
   "source": [
    "with open('input.txt') as f:\n",
    "    %timeit mapped_seats_from_file = [map_chars1(line.strip()) for line in f]\n",
    "    %timeit mapped_seats_from_file = [map_chars2(line.strip()) for line in f]\n",
    "    %timeit mapped_seats_from_file = [map_chars3a(line.strip()) for line in f]\n",
    "    %timeit mapped_seats_from_file = [map_chars3b(line.strip()) for line in f]"
   ]
  },
  {
   "cell_type": "code",
   "execution_count": null,
   "metadata": {},
   "outputs": [],
   "source": [
    "with open('input.txt') as f:\n",
    "    seats_from_file = f.read()"
   ]
  },
  {
   "cell_type": "code",
   "execution_count": 13,
   "metadata": {},
   "outputs": [
    {
     "name": "stdout",
     "output_type": "stream",
     "text": [
      "102 µs ± 1.98 µs per loop (mean ± std. dev. of 7 runs, 10000 loops each)\n",
      "100 µs ± 119 ns per loop (mean ± std. dev. of 7 runs, 10000 loops each)\n",
      "11.9 µs ± 476 ns per loop (mean ± std. dev. of 7 runs, 100000 loops each)\n",
      "12.6 µs ± 927 ns per loop (mean ± std. dev. of 7 runs, 100000 loops each)\n"
     ]
    }
   ],
   "source": [
    "%timeit mapped_seats = map_chars1(seats_from_file)\n",
    "%timeit mapped_seats = map_chars2(seats_from_file)\n",
    "%timeit mapped_seats = map_chars3a(seats_from_file)\n",
    "%timeit mapped_seats = map_chars3b(seats_from_file)"
   ]
  },
  {
   "cell_type": "code",
   "execution_count": null,
   "metadata": {},
   "outputs": [],
   "source": []
  }
 ],
 "metadata": {
  "kernelspec": {
   "display_name": "Python 3",
   "language": "python",
   "name": "python3"
  },
  "language_info": {
   "codemirror_mode": {
    "name": "ipython",
    "version": 3
   },
   "file_extension": ".py",
   "mimetype": "text/x-python",
   "name": "python",
   "nbconvert_exporter": "python",
   "pygments_lexer": "ipython3",
   "version": "3.8.3"
  }
 },
 "nbformat": 4,
 "nbformat_minor": 4
}
