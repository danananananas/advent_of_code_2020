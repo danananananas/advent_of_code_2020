{
 "cells": [
  {
   "cell_type": "code",
   "execution_count": 1,
   "metadata": {},
   "outputs": [],
   "source": [
    "def map_chars1(seat):\n",
    "    seat = seat.replace('F', '0')\n",
    "    seat = seat.replace('B', '1')\n",
    "    seat = seat.replace('L', '0')\n",
    "    seat = seat.replace('R', '1')\n",
    "    return seat"
   ]
  },
  {
   "cell_type": "code",
   "execution_count": 2,
   "metadata": {},
   "outputs": [],
   "source": [
    "def map_chars2(seat):\n",
    "    return seat.replace('F', '0').replace('B', '1').replace('L', '0').replace('R', '1')"
   ]
  },
  {
   "cell_type": "code",
   "execution_count": 3,
   "metadata": {},
   "outputs": [],
   "source": [
    "def map_chars3a(seats):\n",
    "    mapping = {'F': '0', 'B': '1', 'L': '0', 'R': '1'}\n",
    "    return seats.translate(str.maketrans(mapping))"
   ]
  },
  {
   "cell_type": "code",
   "execution_count": 4,
   "metadata": {},
   "outputs": [],
   "source": [
    "def map_chars3b(seats):\n",
    "    return seats.translate(str.maketrans({'F': '0', 'B': '1', 'L': '0', 'R': '1'}))"
   ]
  },
  {
   "cell_type": "code",
   "execution_count": 5,
   "metadata": {},
   "outputs": [],
   "source": [
    "seats = 'FBFBBFFRLR\\nBFFFBBFRRR\\nFFFBBBFRRR\\nBBFFBBFRLL'"
   ]
  },
  {
   "cell_type": "code",
   "execution_count": 7,
   "metadata": {},
   "outputs": [
    {
     "name": "stdout",
     "output_type": "stream",
     "text": [
      "1.25 µs ± 58.2 ns per loop (mean ± std. dev. of 7 runs, 1000000 loops each)\n",
      "1.18 µs ± 127 ns per loop (mean ± std. dev. of 7 runs, 1000000 loops each)\n",
      "1.26 µs ± 96.1 ns per loop (mean ± std. dev. of 7 runs, 1000000 loops each)\n",
      "1.17 µs ± 41.7 ns per loop (mean ± std. dev. of 7 runs, 1000000 loops each)\n"
     ]
    }
   ],
   "source": [
    "%timeit mapped_seats = map_chars1(seats)\n",
    "%timeit mapped_seats = map_chars2(seats)\n",
    "%timeit mapped_seats = map_chars3a(seats)\n",
    "%timeit mapped_seats = map_chars3b(seats)"
   ]
  },
  {
   "cell_type": "code",
   "execution_count": 15,
   "metadata": {},
   "outputs": [
    {
     "name": "stdout",
     "output_type": "stream",
     "text": [
      "7.37 µs ± 569 ns per loop (mean ± std. dev. of 7 runs, 100000 loops each)\n",
      "7.26 µs ± 440 ns per loop (mean ± std. dev. of 7 runs, 100000 loops each)\n",
      "6.83 µs ± 189 ns per loop (mean ± std. dev. of 7 runs, 100000 loops each)\n",
      "7.05 µs ± 303 ns per loop (mean ± std. dev. of 7 runs, 100000 loops each)\n"
     ]
    }
   ],
   "source": [
    "with open('input.txt') as f:\n",
    "    %timeit mapped_seats_from_file = [map_chars1(line.strip()) for line in f]\n",
    "    %timeit mapped_seats_from_file = [map_chars2(line.strip()) for line in f]\n",
    "    %timeit mapped_seats_from_file = [map_chars3a(line.strip()) for line in f]\n",
    "    %timeit mapped_seats_from_file = [map_chars3b(line.strip()) for line in f]"
   ]
  },
  {
   "cell_type": "code",
   "execution_count": null,
   "metadata": {},
   "outputs": [],
   "source": [
    "with open('input.txt') as f:\n",
    "    seats_from_file = f.read()"
   ]
  },
  {
   "cell_type": "code",
   "execution_count": 13,
   "metadata": {},
   "outputs": [
    {
     "name": "stdout",
     "output_type": "stream",
     "text": [
      "102 µs ± 1.98 µs per loop (mean ± std. dev. of 7 runs, 10000 loops each)\n",
      "100 µs ± 119 ns per loop (mean ± std. dev. of 7 runs, 10000 loops each)\n",
      "11.9 µs ± 476 ns per loop (mean ± std. dev. of 7 runs, 100000 loops each)\n",
      "12.6 µs ± 927 ns per loop (mean ± std. dev. of 7 runs, 100000 loops each)\n"
     ]
    }
   ],
   "source": [
    "%timeit mapped_seats = map_chars1(seats_from_file)\n",
    "%timeit mapped_seats = map_chars2(seats_from_file)\n",
    "%timeit mapped_seats = map_chars3a(seats_from_file)\n",
    "%timeit mapped_seats = map_chars3b(seats_from_file)"
   ]
  },
  {
   "cell_type": "markdown",
   "metadata": {},
   "source": [
    "## Part 2"
   ]
  },
  {
   "cell_type": "code",
   "execution_count": 3,
   "metadata": {},
   "outputs": [],
   "source": [
    "def map_chars(seats, mapping):\n",
    "    return seats.translate(str.maketrans(mapping))"
   ]
  },
  {
   "cell_type": "code",
   "execution_count": 4,
   "metadata": {},
   "outputs": [],
   "source": [
    "def decode_seat(seat_code):\n",
    "    row = seat_code[:-3]\n",
    "    column = seat_code[-3:]\n",
    "    row = int(row, 2)\n",
    "    column = int(column, 2)\n",
    "    return row, column"
   ]
  },
  {
   "cell_type": "code",
   "execution_count": 5,
   "metadata": {},
   "outputs": [],
   "source": [
    "def decode_seat_id(seat_code, mapping):\n",
    "    seat = map_chars(seat_code, mapping)\n",
    "    row, column = decode_seat(seat)\n",
    "    return row * 8 + column"
   ]
  },
  {
   "cell_type": "code",
   "execution_count": 1,
   "metadata": {},
   "outputs": [],
   "source": [
    "def decode_file(filename):\n",
    "    mapping = {'F': '0', 'B': '1', 'L': '0', 'R': '1'}\n",
    "    with open(filename) as f:\n",
    "        seat_ids = [decode_seat_id(seat.strip(), mapping) for seat in f]\n",
    "    return seat_ids"
   ]
  },
  {
   "cell_type": "code",
   "execution_count": 11,
   "metadata": {},
   "outputs": [],
   "source": [
    "def partial_sum(k, n):\n",
    "    if k > n:\n",
    "        raise ValueError('n can not be less than k')\n",
    "    return int(- (k - n - 1) * (k + n) / 2)"
   ]
  },
  {
   "cell_type": "code",
   "execution_count": 7,
   "metadata": {},
   "outputs": [],
   "source": [
    "def solution_part_2a(seat_ids):\n",
    "    all_seats_summed = partial_sum(min(seat_ids), max(seat_ids))\n",
    "    taken_seats_summed = sum(seat_ids)\n",
    "    return all_seats_summed - taken_seats_summed"
   ]
  },
  {
   "cell_type": "code",
   "execution_count": 21,
   "metadata": {},
   "outputs": [],
   "source": [
    "def solution_part_2b_dana(seat_ids):\n",
    "    seat_ids = sorted(seat_ids)\n",
    "    for i, seat_id in enumerate(seat_ids, seat_ids[0]):\n",
    "        if seat_id != i:\n",
    "            return seat_id - 1"
   ]
  },
  {
   "cell_type": "code",
   "execution_count": 31,
   "metadata": {},
   "outputs": [],
   "source": [
    "def solution_part_2b_dana_ala_thomas(seat_ids):\n",
    "    seat_ids.sort()\n",
    "    for i, seat_id in enumerate(seat_ids, seat_ids[0]):\n",
    "        if seat_id != i:\n",
    "            return seat_id - 1"
   ]
  },
  {
   "cell_type": "code",
   "execution_count": 19,
   "metadata": {},
   "outputs": [],
   "source": [
    "def solution_part_2b_thomas(seat_ids):\n",
    "    seat_ids.sort()\n",
    "    for i, seat_id in enumerate(seat_ids):\n",
    "        if i > 0 and seat_id == seat_ids[i-1] + 2:\n",
    "            return seat_id - 1"
   ]
  },
  {
   "cell_type": "code",
   "execution_count": 27,
   "metadata": {},
   "outputs": [],
   "source": [
    "def solution_part_2c(seat_ids):\n",
    "    all_seats = set(range(min(seat_ids), max(seat_ids)+1))\n",
    "    return list(all_seats.difference(set(seat_ids)))[0]"
   ]
  },
  {
   "cell_type": "code",
   "execution_count": 83,
   "metadata": {},
   "outputs": [],
   "source": [
    "seat_ids = decode_file('input.txt')"
   ]
  },
  {
   "cell_type": "code",
   "execution_count": 85,
   "metadata": {},
   "outputs": [
    {
     "name": "stdout",
     "output_type": "stream",
     "text": [
      "73.7 µs ± 478 ns per loop (mean ± std. dev. of 7 runs, 10000 loops each)\n",
      "56.2 µs ± 3.58 µs per loop (mean ± std. dev. of 7 runs, 10000 loops each)\n",
      "53 µs ± 2.53 µs per loop (mean ± std. dev. of 7 runs, 10000 loops each)\n",
      "136 µs ± 1.99 µs per loop (mean ± std. dev. of 7 runs, 10000 loops each)\n",
      "147 µs ± 1.47 µs per loop (mean ± std. dev. of 7 runs, 10000 loops each)\n"
     ]
    }
   ],
   "source": [
    "%timeit solution_part_2a(seat_ids)\n",
    "%timeit solution_part_2b_dana(seat_ids)\n",
    "%timeit solution_part_2b_dana_ala_thomas(seat_ids)\n",
    "%timeit solution_part_2b_thomas(seat_ids)\n",
    "%timeit solution_part_2c(seat_ids)"
   ]
  },
  {
   "cell_type": "code",
   "execution_count": 86,
   "metadata": {},
   "outputs": [],
   "source": [
    "seat_at_the_end = decode_file('seat_at_the_end.txt')"
   ]
  },
  {
   "cell_type": "code",
   "execution_count": 93,
   "metadata": {},
   "outputs": [
    {
     "name": "stdout",
     "output_type": "stream",
     "text": [
      "73.4 µs ± 1.55 µs per loop (mean ± std. dev. of 7 runs, 10000 loops each)\n",
      "87.2 µs ± 2.29 µs per loop (mean ± std. dev. of 7 runs, 10000 loops each)\n",
      "85.1 µs ± 1.32 µs per loop (mean ± std. dev. of 7 runs, 10000 loops each)\n",
      "250 µs ± 12 µs per loop (mean ± std. dev. of 7 runs, 1000 loops each)\n",
      "146 µs ± 622 ns per loop (mean ± std. dev. of 7 runs, 10000 loops each)\n"
     ]
    }
   ],
   "source": [
    "%timeit solution_part_2a(seat_at_the_end)\n",
    "%timeit solution_part_2b_dana(seat_at_the_end)\n",
    "%timeit solution_part_2b_dana_ala_thomas(seat_at_the_end)\n",
    "%timeit solution_part_2b_thomas(seat_at_the_end)\n",
    "%timeit solution_part_2c(seat_at_the_end)"
   ]
  },
  {
   "cell_type": "code",
   "execution_count": 89,
   "metadata": {},
   "outputs": [],
   "source": [
    "seat_upfront = decode_file('seat_upfront.txt')"
   ]
  },
  {
   "cell_type": "code",
   "execution_count": 91,
   "metadata": {},
   "outputs": [
    {
     "name": "stdout",
     "output_type": "stream",
     "text": [
      "72.8 µs ± 1.41 µs per loop (mean ± std. dev. of 7 runs, 10000 loops each)\n",
      "8.57 µs ± 28.8 ns per loop (mean ± std. dev. of 7 runs, 100000 loops each)\n",
      "6.7 µs ± 185 ns per loop (mean ± std. dev. of 7 runs, 100000 loops each)\n",
      "6.68 µs ± 46.3 ns per loop (mean ± std. dev. of 7 runs, 100000 loops each)\n",
      "145 µs ± 1.11 µs per loop (mean ± std. dev. of 7 runs, 10000 loops each)\n"
     ]
    }
   ],
   "source": [
    "%timeit solution_part_2a(seat_upfront)\n",
    "%timeit solution_part_2b_dana(seat_upfront)\n",
    "%timeit solution_part_2b_dana_ala_thomas(seat_upfront)\n",
    "%timeit solution_part_2b_thomas(seat_upfront)\n",
    "%timeit solution_part_2c(seat_upfront)"
   ]
  },
  {
   "cell_type": "code",
   "execution_count": 75,
   "metadata": {},
   "outputs": [
    {
     "name": "stdout",
     "output_type": "stream",
     "text": [
      "39\n",
      "39\n",
      "39\n",
      "39\n"
     ]
    }
   ],
   "source": [
    "print(solution_part_2a(seat_ids))\n",
    "print(solution_part_2b_dana(seat_ids))\n",
    "print(solution_part_2b_thomas(seat_ids))\n",
    "print(solution_part_2c(seat_ids))"
   ]
  },
  {
   "cell_type": "code",
   "execution_count": 37,
   "metadata": {},
   "outputs": [
    {
     "name": "stdout",
     "output_type": "stream",
     "text": [
      "75 7\n"
     ]
    }
   ],
   "source": [
    "print(607//8, 607%8)"
   ]
  },
  {
   "cell_type": "code",
   "execution_count": 69,
   "metadata": {},
   "outputs": [
    {
     "name": "stdout",
     "output_type": "stream",
     "text": [
      "40 980\n"
     ]
    }
   ],
   "source": [
    "print(min(seat_ids), max(seat_ids))"
   ]
  },
  {
   "cell_type": "code",
   "execution_count": 70,
   "metadata": {},
   "outputs": [
    {
     "name": "stdout",
     "output_type": "stream",
     "text": [
      "5 0\n"
     ]
    }
   ],
   "source": [
    "print(40//8, 40%8)"
   ]
  },
  {
   "cell_type": "code",
   "execution_count": null,
   "metadata": {},
   "outputs": [],
   "source": [
    "print(980//8, 980%8)"
   ]
  },
  {
   "cell_type": "code",
   "execution_count": 41,
   "metadata": {},
   "outputs": [
    {
     "data": {
      "text/plain": [
       "982"
      ]
     },
     "execution_count": 41,
     "metadata": {},
     "output_type": "execute_result"
    }
   ],
   "source": [
    "122*8+6"
   ]
  },
  {
   "cell_type": "code",
   "execution_count": 56,
   "metadata": {},
   "outputs": [],
   "source": [
    "def encode_seat(row, col):\n",
    "    row = bin(row)[2:].replace('0', 'F').replace('1', 'B')\n",
    "    col = bin(col)[2:].replace('0', 'L').replace('1', 'R')\n",
    "    seat = row + col\n",
    "    return seat.rjust(10, 'F')"
   ]
  },
  {
   "cell_type": "code",
   "execution_count": 57,
   "metadata": {},
   "outputs": [
    {
     "data": {
      "text/plain": [
       "'BFFBFBBRRR'"
      ]
     },
     "execution_count": 57,
     "metadata": {},
     "output_type": "execute_result"
    }
   ],
   "source": [
    "encode_seat(75, 7)"
   ]
  },
  {
   "cell_type": "code",
   "execution_count": 58,
   "metadata": {},
   "outputs": [
    {
     "data": {
      "text/plain": [
       "'BBBBFBFRRL'"
      ]
     },
     "execution_count": 58,
     "metadata": {},
     "output_type": "execute_result"
    }
   ],
   "source": [
    "encode_seat(122, 6)"
   ]
  },
  {
   "cell_type": "code",
   "execution_count": 71,
   "metadata": {},
   "outputs": [
    {
     "data": {
      "text/plain": [
       "'FFFFBFFRRL'"
      ]
     },
     "execution_count": 71,
     "metadata": {},
     "output_type": "execute_result"
    }
   ],
   "source": [
    "encode_seat(4, 6)"
   ]
  },
  {
   "cell_type": "code",
   "execution_count": 72,
   "metadata": {},
   "outputs": [
    {
     "data": {
      "text/plain": [
       "(4, 6)"
      ]
     },
     "execution_count": 72,
     "metadata": {},
     "output_type": "execute_result"
    }
   ],
   "source": [
    "decode_seat(map_chars('FFFFBFFRRL', {'F': '0', 'B': '1', 'L': '0', 'R': '1'}))"
   ]
  },
  {
   "cell_type": "code",
   "execution_count": null,
   "metadata": {},
   "outputs": [],
   "source": []
  }
 ],
 "metadata": {
  "kernelspec": {
   "display_name": "Python 3",
   "language": "python",
   "name": "python3"
  },
  "language_info": {
   "codemirror_mode": {
    "name": "ipython",
    "version": 3
   },
   "file_extension": ".py",
   "mimetype": "text/x-python",
   "name": "python",
   "nbconvert_exporter": "python",
   "pygments_lexer": "ipython3",
   "version": "3.8.3"
  }
 },
 "nbformat": 4,
 "nbformat_minor": 4
}
